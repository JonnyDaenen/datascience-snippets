{
  "cells": [
    {
      "metadata": {
        "collapsed": true
      },
      "cell_type": "markdown",
      "source": "# Sorting"
    },
    {
      "metadata": {
        "trusted": true
      },
      "cell_type": "code",
      "source": "import numpy as np",
      "execution_count": 1,
      "outputs": []
    },
    {
      "metadata": {
        "trusted": true
      },
      "cell_type": "code",
      "source": "#O(n^2)\ndef selection_sort(x):\n    for i in range(len(x)):\n        # starting at pos i,\n        # find the index of the minimum\n        swap = i + np.argmin(x[i:])\n        (x[i], x[swap]) = (x[swap], x[i])\n        return x",
      "execution_count": 2,
      "outputs": []
    },
    {
      "metadata": {
        "trusted": true
      },
      "cell_type": "code",
      "source": "x = np.array([2,1,4,3,5])\nselection_sort(x)",
      "execution_count": 3,
      "outputs": [
        {
          "output_type": "execute_result",
          "execution_count": 3,
          "data": {
            "text/plain": "array([1, 2, 4, 3, 5])"
          },
          "metadata": {}
        }
      ]
    },
    {
      "metadata": {
        "trusted": true
      },
      "cell_type": "code",
      "source": "#O(n*n!)\ndef bogo_sort(x):\n    while np.any(x[:-1] > x[1:]):\n        np.random.shuffle(x)\n    return x",
      "execution_count": 8,
      "outputs": []
    },
    {
      "metadata": {
        "trusted": true
      },
      "cell_type": "code",
      "source": "x[:-1]",
      "execution_count": 4,
      "outputs": [
        {
          "output_type": "execute_result",
          "execution_count": 4,
          "data": {
            "text/plain": "array([1, 2, 4, 3])"
          },
          "metadata": {}
        }
      ]
    },
    {
      "metadata": {
        "trusted": true
      },
      "cell_type": "code",
      "source": "x[1:]",
      "execution_count": 5,
      "outputs": [
        {
          "output_type": "execute_result",
          "execution_count": 5,
          "data": {
            "text/plain": "array([2, 4, 3, 5])"
          },
          "metadata": {}
        }
      ]
    },
    {
      "metadata": {
        "trusted": true
      },
      "cell_type": "code",
      "source": "x[:-1] > x[1:]",
      "execution_count": 6,
      "outputs": [
        {
          "output_type": "execute_result",
          "execution_count": 6,
          "data": {
            "text/plain": "array([False, False,  True, False])"
          },
          "metadata": {}
        }
      ]
    },
    {
      "metadata": {},
      "cell_type": "markdown",
      "source": "we compare every element with the next one. We see that 4 is smaller than 3, which is where a mismatch occurs."
    },
    {
      "metadata": {
        "trusted": true
      },
      "cell_type": "code",
      "source": "bogo_sort(x)",
      "execution_count": 9,
      "outputs": [
        {
          "output_type": "execute_result",
          "execution_count": 9,
          "data": {
            "text/plain": "array([1, 2, 3, 4, 5])"
          },
          "metadata": {}
        }
      ]
    },
    {
      "metadata": {},
      "cell_type": "markdown",
      "source": "## Numpy sorting\nBy default np.sort uses quicksort, though mergesort and heapsort are also available."
    },
    {
      "metadata": {
        "trusted": true
      },
      "cell_type": "code",
      "source": "x = np.array([2,1,4,3,5])",
      "execution_count": 17,
      "outputs": []
    },
    {
      "metadata": {
        "trusted": true
      },
      "cell_type": "code",
      "source": "np.sort(x)",
      "execution_count": 18,
      "outputs": [
        {
          "output_type": "execute_result",
          "execution_count": 18,
          "data": {
            "text/plain": "array([1, 2, 3, 4, 5])"
          },
          "metadata": {}
        }
      ]
    },
    {
      "metadata": {
        "trusted": true
      },
      "cell_type": "code",
      "source": "x.sort()\nx",
      "execution_count": 19,
      "outputs": [
        {
          "output_type": "execute_result",
          "execution_count": 19,
          "data": {
            "text/plain": "array([1, 2, 3, 4, 5])"
          },
          "metadata": {}
        }
      ]
    },
    {
      "metadata": {},
      "cell_type": "markdown",
      "source": "argsort returns the indexes of the sorted elements:"
    },
    {
      "metadata": {
        "trusted": true
      },
      "cell_type": "code",
      "source": "x = np.array([2,1,4,3,5])\ni = np.argsort(x)\ni",
      "execution_count": 21,
      "outputs": [
        {
          "output_type": "execute_result",
          "execution_count": 21,
          "data": {
            "text/plain": "array([1, 0, 3, 2, 4])"
          },
          "metadata": {}
        }
      ]
    },
    {
      "metadata": {
        "trusted": true
      },
      "cell_type": "code",
      "source": "x[i]",
      "execution_count": 22,
      "outputs": [
        {
          "output_type": "execute_result",
          "execution_count": 22,
          "data": {
            "text/plain": "array([1, 2, 3, 4, 5])"
          },
          "metadata": {}
        }
      ]
    },
    {
      "metadata": {},
      "cell_type": "markdown",
      "source": "## N-D sorting"
    },
    {
      "metadata": {
        "trusted": true
      },
      "cell_type": "code",
      "source": "rand = np.random.RandomState(42)\nX = rand.randint(0, 10, (4,6))\nX",
      "execution_count": 30,
      "outputs": [
        {
          "output_type": "execute_result",
          "execution_count": 30,
          "data": {
            "text/plain": "array([[6, 3, 7, 4, 6, 9],\n       [2, 6, 7, 4, 3, 7],\n       [7, 2, 5, 4, 1, 7],\n       [5, 1, 4, 0, 9, 5]])"
          },
          "metadata": {}
        }
      ]
    },
    {
      "metadata": {
        "trusted": true
      },
      "cell_type": "code",
      "source": "np.sort(X) #  columns are default for 2D (probably highest axis)",
      "execution_count": 33,
      "outputs": [
        {
          "output_type": "execute_result",
          "execution_count": 33,
          "data": {
            "text/plain": "array([[3, 4, 6, 6, 7, 9],\n       [2, 3, 4, 6, 7, 7],\n       [1, 2, 4, 5, 7, 7],\n       [0, 1, 4, 5, 5, 9]])"
          },
          "metadata": {}
        }
      ]
    },
    {
      "metadata": {
        "trusted": true
      },
      "cell_type": "code",
      "source": "np.sort(X, axis=1) # sort each row",
      "execution_count": 34,
      "outputs": [
        {
          "output_type": "execute_result",
          "execution_count": 34,
          "data": {
            "text/plain": "array([[3, 4, 6, 6, 7, 9],\n       [2, 3, 4, 6, 7, 7],\n       [1, 2, 4, 5, 7, 7],\n       [0, 1, 4, 5, 5, 9]])"
          },
          "metadata": {}
        }
      ]
    },
    {
      "metadata": {
        "trusted": true
      },
      "cell_type": "code",
      "source": "np.sort(X, axis=0) # sort each column",
      "execution_count": 35,
      "outputs": [
        {
          "output_type": "execute_result",
          "execution_count": 35,
          "data": {
            "text/plain": "array([[2, 1, 4, 0, 1, 5],\n       [5, 2, 5, 4, 3, 7],\n       [6, 3, 7, 4, 6, 7],\n       [7, 6, 7, 4, 9, 9]])"
          },
          "metadata": {}
        }
      ]
    },
    {
      "metadata": {},
      "cell_type": "markdown",
      "source": "## Partitioning\nfinding the k smallest values"
    },
    {
      "metadata": {},
      "cell_type": "markdown",
      "source": "find the 3 smallest values and put them in the front. All there rest will follow in an arbitrary order."
    },
    {
      "metadata": {
        "trusted": true
      },
      "cell_type": "code",
      "source": "x = np.array([7, 2, 3, 1, 6, 5, 4])\nnp.partition(x, 3)",
      "execution_count": 37,
      "outputs": [
        {
          "output_type": "execute_result",
          "execution_count": 37,
          "data": {
            "text/plain": "array([2, 1, 3, 4, 6, 5, 7])"
          },
          "metadata": {}
        }
      ]
    },
    {
      "metadata": {
        "trusted": true
      },
      "cell_type": "code",
      "source": "np.partition(X, 2, axis=1)",
      "execution_count": 38,
      "outputs": [
        {
          "output_type": "execute_result",
          "execution_count": 38,
          "data": {
            "text/plain": "array([[3, 4, 6, 7, 6, 9],\n       [2, 3, 4, 7, 6, 7],\n       [1, 2, 4, 5, 7, 7],\n       [0, 1, 4, 5, 9, 5]])"
          },
          "metadata": {}
        }
      ]
    },
    {
      "metadata": {},
      "cell_type": "markdown",
      "source": "## Example: kNN"
    },
    {
      "metadata": {
        "trusted": true
      },
      "cell_type": "code",
      "source": "N = 10\nX = rand.rand(N,2)\nX",
      "execution_count": 85,
      "outputs": [
        {
          "output_type": "execute_result",
          "execution_count": 85,
          "data": {
            "text/plain": "array([[0.42340148, 0.39488152],\n       [0.29348817, 0.01407982],\n       [0.1988424 , 0.71134195],\n       [0.79017554, 0.60595997],\n       [0.92630088, 0.65107703],\n       [0.91495968, 0.85003858],\n       [0.44945067, 0.09541012],\n       [0.37081825, 0.66884125],\n       [0.66592236, 0.59129779],\n       [0.27472179, 0.56124343]])"
          },
          "metadata": {}
        }
      ]
    },
    {
      "metadata": {
        "trusted": true
      },
      "cell_type": "code",
      "source": "%matplotlib inline\nimport matplotlib.pyplot as plt\nimport seaborn; seaborn.set()",
      "execution_count": 86,
      "outputs": []
    },
    {
      "metadata": {
        "trusted": true
      },
      "cell_type": "code",
      "source": "plt.scatter(X[:,0], X[:,1], s=100);",
      "execution_count": 87,
      "outputs": [
        {
          "output_type": "display_data",
          "data": {
            "image/png": "[encoded data removed]",
            "text/plain": "<matplotlib.figure.Figure at 0x7f00e3db58d0>"
          },
          "metadata": {}
        }
      ]
    },
    {
      "metadata": {
        "trusted": true
      },
      "cell_type": "code",
      "source": "differences = X[:, np.newaxis, :] - X[np.newaxis, :, :]\ndifferences.shape",
      "execution_count": 88,
      "outputs": [
        {
          "output_type": "execute_result",
          "execution_count": 88,
          "data": {
            "text/plain": "(10, 10, 2)"
          },
          "metadata": {}
        }
      ]
    },
    {
      "metadata": {
        "trusted": true
      },
      "cell_type": "code",
      "source": "sq_differences = differences ** 2\nsq_differences.shape",
      "execution_count": 89,
      "outputs": [
        {
          "output_type": "execute_result",
          "execution_count": 89,
          "data": {
            "text/plain": "(10, 10, 2)"
          },
          "metadata": {}
        }
      ]
    },
    {
      "metadata": {
        "trusted": true
      },
      "cell_type": "code",
      "source": "dist_sq = sq_differences.sum(axis=-1)\ndist_sq.shape",
      "execution_count": 90,
      "outputs": [
        {
          "output_type": "execute_result",
          "execution_count": 90,
          "data": {
            "text/plain": "(10, 10)"
          },
          "metadata": {}
        }
      ]
    },
    {
      "metadata": {
        "trusted": true
      },
      "cell_type": "code",
      "source": "dist_sq.diagonal()",
      "execution_count": 91,
      "outputs": [
        {
          "output_type": "execute_result",
          "execution_count": 91,
          "data": {
            "text/plain": "array([0., 0., 0., 0., 0., 0., 0., 0., 0., 0.])"
          },
          "metadata": {}
        }
      ]
    },
    {
      "metadata": {
        "trusted": true
      },
      "cell_type": "code",
      "source": "dist_sq",
      "execution_count": 92,
      "outputs": [
        {
          "output_type": "execute_result",
          "execution_count": 92,
          "data": {
            "text/plain": "array([[0.        , 0.1618874 , 0.15057399, 0.17907733, 0.31854394,\n        0.44879741, 0.09036168, 0.07781893, 0.09739573, 0.04978193],\n       [0.1618874 , 0.        , 0.4951323 , 0.59702045, 0.80621735,\n        1.08505387, 0.03093892, 0.43469247, 0.4718878 , 0.29974019],\n       [0.15057399, 0.4951323 , 0.        , 0.36078024, 0.53282769,\n        0.5320607 , 0.44217653, 0.031382  , 0.23257428, 0.02828725],\n       [0.17907733, 0.59702045, 0.36078024, 0.        , 0.02056566,\n        0.07514544, 0.37675459, 0.17981459, 0.01565383, 0.26769214],\n       [0.31854394, 0.80621735, 0.53282769, 0.02056566, 0.        ,\n        0.03971432, 0.53615183, 0.30887652, 0.07137053, 0.43262538],\n       [0.44879741, 1.08505387, 0.5320607 , 0.07514544, 0.03971432,\n        0.        , 0.78616274, 0.32892236, 0.12896638, 0.49330719],\n       [0.09036168, 0.03093892, 0.44217653, 0.37675459, 0.53615183,\n        0.78616274, 0.        , 0.33500633, 0.29276457, 0.24753085],\n       [0.07781893, 0.43469247, 0.031382  , 0.17981459, 0.30887652,\n        0.32892236, 0.33500633, 0.        , 0.09309942, 0.02081182],\n       [0.09739573, 0.4718878 , 0.23257428, 0.01565383, 0.07137053,\n        0.12896638, 0.29276457, 0.09309942, 0.        , 0.15394115],\n       [0.04978193, 0.29974019, 0.02828725, 0.26769214, 0.43262538,\n        0.49330719, 0.24753085, 0.02081182, 0.15394115, 0.        ]])"
          },
          "metadata": {}
        }
      ]
    },
    {
      "metadata": {
        "trusted": true
      },
      "cell_type": "code",
      "source": "nearest = np.argsort(dist_sq, axis=1)\nnearest",
      "execution_count": 93,
      "outputs": [
        {
          "output_type": "execute_result",
          "execution_count": 93,
          "data": {
            "text/plain": "array([[0, 9, 7, 6, 8, 2, 1, 3, 4, 5],\n       [1, 6, 0, 9, 7, 8, 2, 3, 4, 5],\n       [2, 9, 7, 0, 8, 3, 6, 1, 5, 4],\n       [3, 8, 4, 5, 0, 7, 9, 2, 6, 1],\n       [4, 3, 5, 8, 7, 0, 9, 2, 6, 1],\n       [5, 4, 3, 8, 7, 0, 9, 2, 6, 1],\n       [6, 1, 0, 9, 8, 7, 3, 2, 4, 5],\n       [7, 9, 2, 0, 8, 3, 4, 5, 6, 1],\n       [8, 3, 4, 7, 0, 5, 9, 2, 6, 1],\n       [9, 7, 2, 0, 8, 6, 3, 1, 4, 5]])"
          },
          "metadata": {}
        }
      ]
    },
    {
      "metadata": {
        "trusted": true
      },
      "cell_type": "code",
      "source": "K = 2\nnearest_partition = np.argpartition(dist_sq, K+1, axis=1) #K+1 for element itself\nnearest_partition #note that these are NOT ordered!",
      "execution_count": 94,
      "outputs": [
        {
          "output_type": "execute_result",
          "execution_count": 94,
          "data": {
            "text/plain": "array([[0, 9, 7, 6, 8, 3, 2, 1, 4, 5],\n       [1, 0, 6, 9, 3, 5, 2, 7, 8, 4],\n       [7, 9, 2, 0, 1, 5, 6, 3, 8, 4],\n       [8, 3, 4, 5, 0, 1, 6, 7, 2, 9],\n       [3, 5, 4, 8, 7, 0, 6, 1, 2, 9],\n       [3, 5, 4, 8, 7, 0, 6, 1, 2, 9],\n       [1, 0, 6, 9, 3, 5, 2, 7, 8, 4],\n       [7, 9, 2, 0, 1, 5, 6, 3, 8, 4],\n       [8, 3, 4, 7, 0, 5, 6, 1, 2, 9],\n       [7, 9, 2, 0, 1, 5, 6, 3, 8, 4]])"
          },
          "metadata": {}
        }
      ]
    },
    {
      "metadata": {},
      "cell_type": "markdown",
      "source": "let's visualize"
    },
    {
      "metadata": {
        "trusted": true
      },
      "cell_type": "code",
      "source": "plt.scatter(X[:, 0], X[:, 1], s=100)\n\nfor i in range(X.shape[0]):\n    for j in nearest_partition[i, :K+1]:\n        plt.plot(*zip(X[j], X[i]), color='black')",
      "execution_count": 95,
      "outputs": [
        {
          "output_type": "display_data",
          "data": {
            "image/png": "[encoded data removed]",
            "text/plain": "<matplotlib.figure.Figure at 0x7f00e3884128>"
          },
          "metadata": {}
        }
      ]
    },
    {
      "metadata": {},
      "cell_type": "markdown",
      "source": "### Difference explained\nLet's calculate the difference between two points"
    },
    {
      "metadata": {
        "trusted": true
      },
      "cell_type": "code",
      "source": "p1 = X[0]\np1",
      "execution_count": 112,
      "outputs": [
        {
          "output_type": "execute_result",
          "execution_count": 112,
          "data": {
            "text/plain": "array([0.42340148, 0.39488152])"
          },
          "metadata": {}
        }
      ]
    },
    {
      "metadata": {
        "trusted": true
      },
      "cell_type": "code",
      "source": "p2 = X[1]\np2",
      "execution_count": 113,
      "outputs": [
        {
          "output_type": "execute_result",
          "execution_count": 113,
          "data": {
            "text/plain": "array([0.29348817, 0.01407982])"
          },
          "metadata": {}
        }
      ]
    },
    {
      "metadata": {
        "trusted": true
      },
      "cell_type": "code",
      "source": "p1 - p2",
      "execution_count": 114,
      "outputs": [
        {
          "output_type": "execute_result",
          "execution_count": 114,
          "data": {
            "text/plain": "array([0.12991331, 0.3808017 ])"
          },
          "metadata": {}
        }
      ]
    },
    {
      "metadata": {
        "trusted": true
      },
      "cell_type": "code",
      "source": "(p1 - p2) ** 2",
      "execution_count": 115,
      "outputs": [
        {
          "output_type": "execute_result",
          "execution_count": 115,
          "data": {
            "text/plain": "array([0.01687747, 0.14500993])"
          },
          "metadata": {}
        }
      ]
    },
    {
      "metadata": {
        "trusted": true
      },
      "cell_type": "code",
      "source": "np.sum((p1 - p2) ** 2)",
      "execution_count": 117,
      "outputs": [
        {
          "output_type": "execute_result",
          "execution_count": 117,
          "data": {
            "text/plain": "0.161887398338398"
          },
          "metadata": {}
        }
      ]
    },
    {
      "metadata": {
        "trusted": true
      },
      "cell_type": "code",
      "source": "np.sqrt(np.sum((p1 - p2) ** 2))",
      "execution_count": 118,
      "outputs": [
        {
          "output_type": "execute_result",
          "execution_count": 118,
          "data": {
            "text/plain": "0.40235233109601587"
          },
          "metadata": {}
        }
      ]
    },
    {
      "metadata": {},
      "cell_type": "markdown",
      "source": "there we go, done!  \nNow let's scale this up to multiple points:"
    },
    {
      "metadata": {
        "trusted": true
      },
      "cell_type": "code",
      "source": "all_points = np.array([p1, p2])\nall_points",
      "execution_count": 121,
      "outputs": [
        {
          "output_type": "execute_result",
          "execution_count": 121,
          "data": {
            "text/plain": "array([[0.42340148, 0.39488152],\n       [0.29348817, 0.01407982]])"
          },
          "metadata": {}
        }
      ]
    },
    {
      "metadata": {},
      "cell_type": "markdown",
      "source": "This is a 2D list: a list of coordinates.  \nWe add one more dimension:"
    },
    {
      "metadata": {
        "trusted": true
      },
      "cell_type": "code",
      "source": "m1 = all_points[:, np.newaxis, :] # last colon can be omitted\nm1",
      "execution_count": 154,
      "outputs": [
        {
          "output_type": "execute_result",
          "execution_count": 154,
          "data": {
            "text/plain": "array([[[0.42340148, 0.39488152]],\n\n       [[0.29348817, 0.01407982]]])"
          },
          "metadata": {}
        }
      ]
    },
    {
      "metadata": {
        "trusted": true
      },
      "cell_type": "code",
      "source": "m1.shape",
      "execution_count": 155,
      "outputs": [
        {
          "output_type": "execute_result",
          "execution_count": 155,
          "data": {
            "text/plain": "(2, 1, 2)"
          },
          "metadata": {}
        }
      ]
    },
    {
      "metadata": {},
      "cell_type": "markdown",
      "source": "This looks like:\n\n|  | 0 | 1 |\n| --- | --- | --- |\n| 0 | p1 | ?? |\n| 1 | p2 | ?? |"
    },
    {
      "metadata": {
        "trusted": true
      },
      "cell_type": "code",
      "source": "m2 = all_points[np.newaxis, :, :] # last colon can be omitted\nm2",
      "execution_count": 152,
      "outputs": [
        {
          "output_type": "execute_result",
          "execution_count": 152,
          "data": {
            "text/plain": "array([[[0.42340148, 0.39488152],\n        [0.29348817, 0.01407982]]])"
          },
          "metadata": {}
        }
      ]
    },
    {
      "metadata": {
        "trusted": true
      },
      "cell_type": "code",
      "source": "m2.shape",
      "execution_count": 153,
      "outputs": [
        {
          "output_type": "execute_result",
          "execution_count": 153,
          "data": {
            "text/plain": "(1, 2, 2)"
          },
          "metadata": {}
        }
      ]
    },
    {
      "metadata": {},
      "cell_type": "markdown",
      "source": "This looks like:\n\n|  | 0 | 1 |\n| --- | --- | --- |\n| 0 | p1 | p2 |\n| 1 | ?? | ?? |"
    },
    {
      "metadata": {},
      "cell_type": "markdown",
      "source": "due to broadcasting rules, both will be blown up:\n\nm1:\n\n|  | 0 | 1 |\n| --- | --- | --- |\n| 0 | p1 | p1 |\n| 1 | p2 | p2 |\n\nand m2:\n\n|  | 0 | 1 |\n| --- | --- | --- |\n| 0 | p1 | p2 |\n| 1 | p1 | p2 |"
    },
    {
      "metadata": {
        "trusted": true
      },
      "cell_type": "code",
      "source": "result = (m1 - m2)\nresult.shape",
      "execution_count": 163,
      "outputs": [
        {
          "output_type": "execute_result",
          "execution_count": 163,
          "data": {
            "text/plain": "(2, 2, 2)"
          },
          "metadata": {}
        }
      ]
    },
    {
      "metadata": {
        "trusted": true
      },
      "cell_type": "code",
      "source": "result",
      "execution_count": 164,
      "outputs": [
        {
          "output_type": "execute_result",
          "execution_count": 164,
          "data": {
            "text/plain": "array([[[ 0.        ,  0.        ],\n        [ 0.12991331,  0.3808017 ]],\n\n       [[-0.12991331, -0.3808017 ],\n        [ 0.        ,  0.        ]]])"
          },
          "metadata": {}
        }
      ]
    },
    {
      "metadata": {},
      "cell_type": "markdown",
      "source": "We find the correct differences, now let's square them"
    },
    {
      "metadata": {
        "trusted": true
      },
      "cell_type": "code",
      "source": "result ** 2",
      "execution_count": 165,
      "outputs": [
        {
          "output_type": "execute_result",
          "execution_count": 165,
          "data": {
            "text/plain": "array([[[0.        , 0.        ],\n        [0.01687747, 0.14500993]],\n\n       [[0.01687747, 0.14500993],\n        [0.        , 0.        ]]])"
          },
          "metadata": {}
        }
      ]
    },
    {
      "metadata": {},
      "cell_type": "markdown",
      "source": "and sum them up using the inner axis"
    },
    {
      "metadata": {
        "trusted": true
      },
      "cell_type": "code",
      "source": "np.sum(result ** 2, axis=-1)",
      "execution_count": 168,
      "outputs": [
        {
          "output_type": "execute_result",
          "execution_count": 168,
          "data": {
            "text/plain": "array([[0.       , 0.1618874],\n       [0.1618874, 0.       ]])"
          },
          "metadata": {}
        }
      ]
    },
    {
      "metadata": {},
      "cell_type": "markdown",
      "source": "and take the square root:"
    },
    {
      "metadata": {
        "trusted": true
      },
      "cell_type": "code",
      "source": "np.sqrt(np.sum(result ** 2, axis=-1))",
      "execution_count": 169,
      "outputs": [
        {
          "output_type": "execute_result",
          "execution_count": 169,
          "data": {
            "text/plain": "array([[0.        , 0.40235233],\n       [0.40235233, 0.        ]])"
          },
          "metadata": {}
        }
      ]
    },
    {
      "metadata": {},
      "cell_type": "markdown",
      "source": "Note that the square root is often dropped as we are mainly interested in the relative distances, which remains unchanges after a sqrt operation."
    },
    {
      "metadata": {},
      "cell_type": "markdown",
      "source": "### zip explained"
    },
    {
      "metadata": {
        "trusted": true
      },
      "cell_type": "code",
      "source": "X[0]",
      "execution_count": 100,
      "outputs": [
        {
          "output_type": "execute_result",
          "execution_count": 100,
          "data": {
            "text/plain": "array([0.42340148, 0.39488152])"
          },
          "metadata": {}
        }
      ]
    },
    {
      "metadata": {
        "trusted": true
      },
      "cell_type": "code",
      "source": "X[1]",
      "execution_count": 101,
      "outputs": [
        {
          "output_type": "execute_result",
          "execution_count": 101,
          "data": {
            "text/plain": "array([0.29348817, 0.01407982])"
          },
          "metadata": {}
        }
      ]
    },
    {
      "metadata": {
        "trusted": true
      },
      "cell_type": "code",
      "source": "list(zip(X[0], X[1])) # we get a list of x-values and a list of y-values",
      "execution_count": 104,
      "outputs": [
        {
          "output_type": "execute_result",
          "execution_count": 104,
          "data": {
            "text/plain": "[(0.4234014807063696, 0.2934881747180381),\n (0.3948815181755697, 0.014079822715084456)]"
          },
          "metadata": {}
        }
      ]
    },
    {
      "metadata": {},
      "cell_type": "markdown",
      "source": "the * operator unpacks the list and passed the x and y lists as separate arguments to the function (plot in this case)"
    },
    {
      "metadata": {
        "trusted": true
      },
      "cell_type": "code",
      "source": "",
      "execution_count": null,
      "outputs": []
    }
  ],
  "metadata": {
    "kernelspec": {
      "name": "python36",
      "display_name": "Python 3.6",
      "language": "python"
    },
    "language_info": {
      "mimetype": "text/x-python",
      "nbconvert_exporter": "python",
      "name": "python",
      "pygments_lexer": "ipython3",
      "version": "3.6.3",
      "file_extension": ".py",
      "codemirror_mode": {
        "version": 3,
        "name": "ipython"
      }
    }
  },
  "nbformat": 4,
  "nbformat_minor": 2
}