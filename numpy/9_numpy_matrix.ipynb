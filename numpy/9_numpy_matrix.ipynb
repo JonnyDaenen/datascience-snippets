{
  "cells": [
    {
      "metadata": {
        "collapsed": true
      },
      "cell_type": "markdown",
      "source": "# Matrix Operations\nnot present in the book"
    },
    {
      "metadata": {
        "trusted": true
      },
      "cell_type": "code",
      "source": "import numpy as np",
      "execution_count": 2,
      "outputs": []
    },
    {
      "metadata": {
        "trusted": true
      },
      "cell_type": "code",
      "source": "A = np.arange(12).reshape((4,3))\nB = np.arange(12).reshape((3,4))",
      "execution_count": 61,
      "outputs": []
    },
    {
      "metadata": {
        "trusted": true
      },
      "cell_type": "code",
      "source": "A",
      "execution_count": 44,
      "outputs": [
        {
          "output_type": "execute_result",
          "execution_count": 44,
          "data": {
            "text/plain": "array([[ 0,  1,  2],\n       [ 3,  4,  5],\n       [ 6,  7,  8],\n       [ 9, 10, 11]])"
          },
          "metadata": {}
        }
      ]
    },
    {
      "metadata": {
        "trusted": true
      },
      "cell_type": "code",
      "source": "B",
      "execution_count": 45,
      "outputs": [
        {
          "output_type": "execute_result",
          "execution_count": 45,
          "data": {
            "text/plain": "array([[ 0,  1,  2,  3],\n       [ 4,  5,  6,  7],\n       [ 8,  9, 10, 11]])"
          },
          "metadata": {}
        }
      ]
    },
    {
      "metadata": {
        "trusted": true
      },
      "cell_type": "code",
      "source": "def calculate_cell(A, B, rowA, colB, n):\n    result = 0\n    for i in range(n):\n        term = A[rowA][i] * B[i][colB]\n        result += term\n    return result\n\ndef mydot(A, B):\n    rows = len(A)\n    cols = len(B[0])\n    n = len(B)\n    \n    result = []\n    for i in range(rows):\n        for j in range(cols):\n            result.append(calculate_cell(A, B, i, j, n))\n    \n    return np.array(result).reshape((rows,cols))\n    ",
      "execution_count": 46,
      "outputs": []
    },
    {
      "metadata": {
        "trusted": true
      },
      "cell_type": "code",
      "source": "def mydot2(A, B):\n    rows = len(A)\n    cols = len(B[0])\n    n = len(B)\n    \n    result = []\n    for i in range(rows):\n        for j in range(cols):\n            cell = 0\n            for k in range(n):\n                term = A[i][k] * B[k][j]\n                cell += term\n            result.append(cell)\n    \n    return np.array(result).reshape((rows,cols))\n    ",
      "execution_count": 47,
      "outputs": []
    },
    {
      "metadata": {
        "trusted": true
      },
      "cell_type": "code",
      "source": "def mydot3(A, B):\n    rows = len(A)\n    cols = len(B[0])\n    n = len(B)\n    \n    result = np.zeros((rows,cols))\n    for i in range(rows):\n        for j in range(cols):\n            for k in range(n):\n                result[i,j] += A[i][k] * B[k][j]\n    \n    return result\n    ",
      "execution_count": 59,
      "outputs": []
    },
    {
      "metadata": {
        "trusted": true
      },
      "cell_type": "code",
      "source": "def mydot4(A, B):\n    rows = len(A)\n    cols = len(B[0])\n    n = len(B)\n    \n    result = np.zeros((rows,cols))\n    for i in range(rows):\n        for k in range(n):\n            for j in range(cols):\n                result[i,j] += A[i][k] * B[k][j]\n    \n    return result\n    ",
      "execution_count": 60,
      "outputs": []
    },
    {
      "metadata": {
        "trusted": true
      },
      "cell_type": "code",
      "source": "A.dot(B)",
      "execution_count": 48,
      "outputs": [
        {
          "output_type": "execute_result",
          "execution_count": 48,
          "data": {
            "text/plain": "array([[ 20,  23,  26,  29],\n       [ 56,  68,  80,  92],\n       [ 92, 113, 134, 155],\n       [128, 158, 188, 218]])"
          },
          "metadata": {}
        }
      ]
    },
    {
      "metadata": {
        "trusted": true
      },
      "cell_type": "code",
      "source": "mydot(A,B)",
      "execution_count": 49,
      "outputs": [
        {
          "output_type": "execute_result",
          "execution_count": 49,
          "data": {
            "text/plain": "array([[ 20,  23,  26,  29],\n       [ 56,  68,  80,  92],\n       [ 92, 113, 134, 155],\n       [128, 158, 188, 218]])"
          },
          "metadata": {}
        }
      ]
    },
    {
      "metadata": {
        "trusted": true
      },
      "cell_type": "code",
      "source": "mydot2(A,B)",
      "execution_count": 50,
      "outputs": [
        {
          "output_type": "execute_result",
          "execution_count": 50,
          "data": {
            "text/plain": "array([[ 20,  23,  26,  29],\n       [ 56,  68,  80,  92],\n       [ 92, 113, 134, 155],\n       [128, 158, 188, 218]])"
          },
          "metadata": {}
        }
      ]
    },
    {
      "metadata": {
        "trusted": true
      },
      "cell_type": "code",
      "source": "mydot3(A,B)",
      "execution_count": 62,
      "outputs": [
        {
          "output_type": "execute_result",
          "execution_count": 62,
          "data": {
            "text/plain": "array([[ 20.,  23.,  26.,  29.],\n       [ 56.,  68.,  80.,  92.],\n       [ 92., 113., 134., 155.],\n       [128., 158., 188., 218.]])"
          },
          "metadata": {}
        }
      ]
    },
    {
      "metadata": {
        "trusted": true
      },
      "cell_type": "code",
      "source": "mydot4(A,B)",
      "execution_count": 63,
      "outputs": [
        {
          "output_type": "execute_result",
          "execution_count": 63,
          "data": {
            "text/plain": "array([[ 20.,  23.,  26.,  29.],\n       [ 56.,  68.,  80.,  92.],\n       [ 92., 113., 134., 155.],\n       [128., 158., 188., 218.]])"
          },
          "metadata": {}
        }
      ]
    },
    {
      "metadata": {
        "trusted": true
      },
      "cell_type": "code",
      "source": "%timeit A.dot(B)\n%timeit mydot(A,B)\n%timeit mydot2(A,B)\n%timeit mydot3(A,B)\n%timeit mydot4(A,B)",
      "execution_count": 64,
      "outputs": [
        {
          "output_type": "stream",
          "text": "1.09 µs ± 53 ns per loop (mean ± std. dev. of 7 runs, 1000000 loops each)\n52.1 µs ± 2.81 µs per loop (mean ± std. dev. of 7 runs, 10000 loops each)\n51 µs ± 1.58 µs per loop (mean ± std. dev. of 7 runs, 10000 loops each)\n62.5 µs ± 2.15 µs per loop (mean ± std. dev. of 7 runs, 10000 loops each)\n60 µs ± 2.2 µs per loop (mean ± std. dev. of 7 runs, 10000 loops each)\n",
          "name": "stdout"
        }
      ]
    },
    {
      "metadata": {
        "trusted": true
      },
      "cell_type": "code",
      "source": "A = np.arange(2000).reshape(40,50)\nB = np.arange(2000).reshape(50,40)",
      "execution_count": 65,
      "outputs": []
    },
    {
      "metadata": {
        "trusted": true
      },
      "cell_type": "code",
      "source": "%timeit A.dot(B)\n%timeit mydot(A,B)\n%timeit mydot2(A,B)\n%timeit mydot3(A,B)\n%timeit mydot4(A,B)",
      "execution_count": 66,
      "outputs": [
        {
          "output_type": "stream",
          "text": "85.2 µs ± 7.07 µs per loop (mean ± std. dev. of 7 runs, 10000 loops each)\n58.5 ms ± 1.82 ms per loop (mean ± std. dev. of 7 runs, 10 loops each)\n58.2 ms ± 1.19 ms per loop (mean ± std. dev. of 7 runs, 10 loops each)\n88.3 ms ± 8.12 ms per loop (mean ± std. dev. of 7 runs, 10 loops each)\n86.3 ms ± 3.28 ms per loop (mean ± std. dev. of 7 runs, 10 loops each)\n",
          "name": "stdout"
        }
      ]
    },
    {
      "metadata": {
        "trusted": true
      },
      "cell_type": "code",
      "source": "",
      "execution_count": null,
      "outputs": []
    }
  ],
  "metadata": {
    "kernelspec": {
      "name": "python36",
      "display_name": "Python 3.6",
      "language": "python"
    },
    "language_info": {
      "mimetype": "text/x-python",
      "nbconvert_exporter": "python",
      "name": "python",
      "pygments_lexer": "ipython3",
      "version": "3.6.6",
      "file_extension": ".py",
      "codemirror_mode": {
        "version": 3,
        "name": "ipython"
      }
    }
  },
  "nbformat": 4,
  "nbformat_minor": 2
}