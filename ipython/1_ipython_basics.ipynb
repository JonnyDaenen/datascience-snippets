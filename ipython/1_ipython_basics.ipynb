{
  "cells": [
    {
      "metadata": {
        "collapsed": true
      },
      "cell_type": "markdown",
      "source": "# IPython & Jupyter\nInteractive Python (run the `ipython` command in the shell).  \nJupyter is the web shell around this (run the `jupyter notebook` command in the shell). "
    },
    {
      "metadata": {},
      "cell_type": "markdown",
      "source": "## IPython"
    },
    {
      "metadata": {
        "trusted": true
      },
      "cell_type": "code",
      "source": "#! ipython # be careful as you need to restart kernel due to the interactive command",
      "execution_count": 1,
      "outputs": []
    },
    {
      "metadata": {},
      "cell_type": "markdown",
      "source": "Output:\n```\nPython 2.7.12 (default, Dec  4 2017, 14:50:18)\nType \"copyright\", \"credits\" or \"license\" for more information.\n\nIPython 4.2.1 -- An enhanced Interactive Python.\n?         -> Introduction and overview of IPython's features.\n%quickref -> Quick reference.\nhelp      -> Python's own help system.\nobject?   -> Details about 'object', use 'object??' for extra details.\n```"
    },
    {
      "metadata": {},
      "cell_type": "markdown",
      "source": "## Jupyter\n- `?` explores documentation\n- `??` shows source code\n- `tab` autocompletes"
    },
    {
      "metadata": {
        "trusted": true
      },
      "cell_type": "code",
      "source": "help(len)",
      "execution_count": 2,
      "outputs": [
        {
          "output_type": "stream",
          "text": "Help on built-in function len in module builtins:\n\nlen(obj, /)\n    Return the number of items in a container.\n\n",
          "name": "stdout"
        }
      ]
    },
    {
      "metadata": {
        "trusted": true
      },
      "cell_type": "code",
      "source": "len?",
      "execution_count": 4,
      "outputs": []
    },
    {
      "metadata": {
        "trusted": true
      },
      "cell_type": "code",
      "source": "L = [1,2,3]",
      "execution_count": 5,
      "outputs": []
    },
    {
      "metadata": {
        "trusted": true
      },
      "cell_type": "code",
      "source": "L.insert?",
      "execution_count": 6,
      "outputs": []
    },
    {
      "metadata": {
        "trusted": true
      },
      "cell_type": "code",
      "source": "L?",
      "execution_count": 7,
      "outputs": []
    },
    {
      "metadata": {
        "trusted": true
      },
      "cell_type": "code",
      "source": "def square(a):\n    \"\"\"Return the square of a.\"\"\"\n    return a**2",
      "execution_count": 9,
      "outputs": []
    },
    {
      "metadata": {
        "trusted": true
      },
      "cell_type": "code",
      "source": "square?",
      "execution_count": 10,
      "outputs": []
    },
    {
      "metadata": {
        "trusted": true
      },
      "cell_type": "code",
      "source": "square??",
      "execution_count": 11,
      "outputs": []
    },
    {
      "metadata": {
        "trusted": true
      },
      "cell_type": "code",
      "source": "len??",
      "execution_count": 13,
      "outputs": []
    },
    {
      "metadata": {
        "trusted": true
      },
      "cell_type": "code",
      "source": "L.co<TAB>",
      "execution_count": 14,
      "outputs": [
        {
          "output_type": "execute_result",
          "execution_count": 14,
          "data": {
            "text/plain": "<function list.count>"
          },
          "metadata": {}
        }
      ]
    },
    {
      "metadata": {
        "trusted": true
      },
      "cell_type": "code",
      "source": "from itertools import co<TAB>",
      "execution_count": 15,
      "outputs": [
        {
          "output_type": "error",
          "ename": "SyntaxError",
          "evalue": "invalid syntax (<ipython-input-15-d45a32a88023>, line 1)",
          "traceback": [
            "\u001b[0;36m  File \u001b[0;32m\"<ipython-input-15-d45a32a88023>\"\u001b[0;36m, line \u001b[0;32m1\u001b[0m\n\u001b[0;31m    from itertools import co<TAB>\u001b[0m\n\u001b[0m                            ^\u001b[0m\n\u001b[0;31mSyntaxError\u001b[0m\u001b[0;31m:\u001b[0m invalid syntax\n"
          ]
        }
      ]
    },
    {
      "metadata": {
        "trusted": true
      },
      "cell_type": "code",
      "source": "import <TAB>",
      "execution_count": 16,
      "outputs": [
        {
          "output_type": "error",
          "ename": "SyntaxError",
          "evalue": "invalid syntax (<ipython-input-16-74f271ece7f0>, line 1)",
          "traceback": [
            "\u001b[0;36m  File \u001b[0;32m\"<ipython-input-16-74f271ece7f0>\"\u001b[0;36m, line \u001b[0;32m1\u001b[0m\n\u001b[0;31m    import <TAB>\u001b[0m\n\u001b[0m           ^\u001b[0m\n\u001b[0;31mSyntaxError\u001b[0m\u001b[0;31m:\u001b[0m invalid syntax\n"
          ]
        }
      ]
    },
    {
      "metadata": {
        "trusted": true
      },
      "cell_type": "code",
      "source": "*Warning?",
      "execution_count": 18,
      "outputs": []
    },
    {
      "metadata": {
        "trusted": true
      },
      "cell_type": "code",
      "source": "str.*find*?",
      "execution_count": 19,
      "outputs": []
    },
    {
      "metadata": {
        "trusted": true
      },
      "cell_type": "code",
      "source": "str.rfind?",
      "execution_count": 24,
      "outputs": []
    },
    {
      "metadata": {},
      "cell_type": "markdown",
      "source": "## Shell shortcuts\n\nIn IPython:\n\n|Keystroke|Action|\n|---|---|\n|Ctrl-a|Move cursor to the beginning of the line\n|Ctrl-e|Move cursor to the end of the line\n|Ctrl-b (or the left arrow key)|Move cursor back one character\n|Ctrl-f (or the right arrow key)|Move cursor forward one character\n|||\n|Backspace key| Delete previous character in line|\n|Ctrl-d| Delete next character in line|\n|Ctrl-k| Cut text from cursor to end of line|\n|Ctrl-u|Cut text from beginning fo line to cursor|\n|Ctrl-y| Yank (i.e., paste) text that was previously cut|\n|Ctrl-t| Transpose (i.e., switch) previous two characters|\n|||\n|Ctrl-p (or the up arrow key)| Access previous command in history|\n|Ctrl-n (or the down arrow key)| Access next command in history|\n|Ctrl-r| Reverse-search through command history|\n|||\n|Ctrl-l| Clear terminal screen |\n|Ctrl-c| Interrupt current Python command |\n|Ctrl-d| Exit IPython session |\n\n\nNote that you can also use Ctrl-p/Ctrl-n or the up/down arrow keys to search through history, but only by matching characters at the beginning of the line. That is, if you type def and then press Ctrl-p, it would find the most recent command (if any) in your history that begins with the characters def.\n"
    }
  ],
  "metadata": {
    "kernelspec": {
      "name": "python36",
      "display_name": "Python 3.6",
      "language": "python"
    },
    "language_info": {
      "mimetype": "text/x-python",
      "nbconvert_exporter": "python",
      "name": "python",
      "pygments_lexer": "ipython3",
      "version": "3.6.6",
      "file_extension": ".py",
      "codemirror_mode": {
        "version": 3,
        "name": "ipython"
      }
    }
  },
  "nbformat": 4,
  "nbformat_minor": 2
}