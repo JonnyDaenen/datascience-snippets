{
  "cells": [
    {
      "metadata": {
        "collapsed": true
      },
      "cell_type": "markdown",
      "source": "# Profiling & Timing\n\n|magic | meaning|\n|---|---|\n|%time | Time the execution of a single statement|\n|%timeit | Time repeated execution of a single statement for more accuracy|\n|%prun | Run code with the profiler|\n|%lprun | Run code with the line-by-line profiler|\n|%memit | Measure the memory use of a single statement|\n|%mprun | Run code with the line-by-line memory profiler|\n\nThe last four commands are not bundled with IPython—you’ll need to install the line_profiler and memory_profiler extensions."
    },
    {
      "metadata": {},
      "cell_type": "markdown",
      "source": "## Timing"
    },
    {
      "metadata": {
        "trusted": true
      },
      "cell_type": "code",
      "source": "%timeit sum(range(100))",
      "execution_count": 1,
      "outputs": [
        {
          "output_type": "stream",
          "text": "1.31 µs ± 115 ns per loop (mean ± std. dev. of 7 runs, 1000000 loops each)\n",
          "name": "stdout"
        }
      ]
    },
    {
      "metadata": {
        "trusted": true
      },
      "cell_type": "code",
      "source": "%%timeit\ntotal = 0\nfor i in range(1000):\n    for j in range(1000):\n        total += i * (-1) ** j",
      "execution_count": 2,
      "outputs": [
        {
          "output_type": "stream",
          "text": "363 ms ± 17.4 ms per loop (mean ± std. dev. of 7 runs, 1 loop each)\n",
          "name": "stdout"
        }
      ]
    },
    {
      "metadata": {
        "trusted": true
      },
      "cell_type": "code",
      "source": "import random",
      "execution_count": 3,
      "outputs": []
    },
    {
      "metadata": {
        "trusted": true
      },
      "cell_type": "code",
      "source": "L = [random.random() for _ in range(100000)]\nprint(\"skewed results due to persistence of initial sorting:\")\n%timeit L.sort()",
      "execution_count": 11,
      "outputs": [
        {
          "output_type": "stream",
          "text": "skewed results due to persistence of initial sorting\n2.19 ms ± 51.8 µs per loop (mean ± std. dev. of 7 runs, 100 loops each)\n",
          "name": "stdout"
        }
      ]
    },
    {
      "metadata": {
        "trusted": true
      },
      "cell_type": "code",
      "source": "L = [random.random() for _ in range(100000)]\nprint(\"unsorted:\")\n%time L.sort()\nprint(\"already sorted:\")\n%time L.sort()",
      "execution_count": 10,
      "outputs": [
        {
          "output_type": "stream",
          "text": "unsorted:\nCPU times: user 43 ms, sys: 109 µs, total: 43.1 ms\nWall time: 43.1 ms\nalready sorted:\nCPU times: user 2.09 ms, sys: 0 ns, total: 2.09 ms\nWall time: 2.11 ms\n",
          "name": "stdout"
        }
      ]
    },
    {
      "metadata": {},
      "cell_type": "markdown",
      "source": "## Profiling"
    },
    {
      "metadata": {
        "trusted": true
      },
      "cell_type": "code",
      "source": "def sum_of_lists(N):\n    total = 0\n    for i in range(5):\n        L = [j ^ (j >> i) for j in range(N)]\n        total += sum(L)\n    return total",
      "execution_count": 12,
      "outputs": []
    },
    {
      "metadata": {
        "trusted": true
      },
      "cell_type": "code",
      "source": "%prun sum_of_lists(1000000)",
      "execution_count": 13,
      "outputs": [
        {
          "output_type": "stream",
          "text": " ",
          "name": "stdout"
        }
      ]
    },
    {
      "metadata": {
        "trusted": true
      },
      "cell_type": "code",
      "source": "!pip install line_profiler",
      "execution_count": 18,
      "outputs": [
        {
          "output_type": "stream",
          "text": "Requirement already satisfied: line_profiler in /home/nbuser/anaconda3_501/lib/python3.6/site-packages (2.1.2)\nRequirement already satisfied: IPython>=0.13 in /home/nbuser/anaconda3_501/lib/python3.6/site-packages (from line_profiler) (6.2.1)\nRequirement already satisfied: setuptools>=18.5 in /home/nbuser/anaconda3_501/lib/python3.6/site-packages (from IPython>=0.13->line_profiler) (40.3.0)\nRequirement already satisfied: jedi>=0.10 in /home/nbuser/anaconda3_501/lib/python3.6/site-packages (from IPython>=0.13->line_profiler) (0.10.2)\nRequirement already satisfied: decorator in /home/nbuser/anaconda3_501/lib/python3.6/site-packages (from IPython>=0.13->line_profiler) (4.1.2)\nRequirement already satisfied: pickleshare in /home/nbuser/anaconda3_501/lib/python3.6/site-packages (from IPython>=0.13->line_profiler) (0.7.4)\nRequirement already satisfied: simplegeneric>0.8 in /home/nbuser/anaconda3_501/lib/python3.6/site-packages (from IPython>=0.13->line_profiler) (0.8.1)\nRequirement already satisfied: traitlets>=4.2 in /home/nbuser/anaconda3_501/lib/python3.6/site-packages (from IPython>=0.13->line_profiler) (4.3.2)\nRequirement already satisfied: prompt_toolkit<2.0.0,>=1.0.4 in /home/nbuser/anaconda3_501/lib/python3.6/site-packages (from IPython>=0.13->line_profiler) (1.0.15)\nRequirement already satisfied: pygments in /home/nbuser/anaconda3_501/lib/python3.6/site-packages (from IPython>=0.13->line_profiler) (2.2.0)\nRequirement already satisfied: pexpect in /home/nbuser/anaconda3_501/lib/python3.6/site-packages (from IPython>=0.13->line_profiler) (4.2.1)\nRequirement already satisfied: ipython_genutils in /home/nbuser/anaconda3_501/lib/python3.6/site-packages (from traitlets>=4.2->IPython>=0.13->line_profiler) (0.2.0)\nRequirement already satisfied: six in /home/nbuser/anaconda3_501/lib/python3.6/site-packages (from traitlets>=4.2->IPython>=0.13->line_profiler) (1.11.0)\nRequirement already satisfied: wcwidth in /home/nbuser/anaconda3_501/lib/python3.6/site-packages (from prompt_toolkit<2.0.0,>=1.0.4->IPython>=0.13->line_profiler) (0.1.7)\n",
          "name": "stdout"
        }
      ]
    },
    {
      "metadata": {
        "trusted": true
      },
      "cell_type": "code",
      "source": "%load_ext line_profiler",
      "execution_count": 19,
      "outputs": []
    },
    {
      "metadata": {
        "trusted": true
      },
      "cell_type": "code",
      "source": "%lprun -f sum_of_lists sum_of_lists(5000)",
      "execution_count": 20,
      "outputs": []
    },
    {
      "metadata": {},
      "cell_type": "markdown",
      "source": "## Memory\nThis only works with modules! Hence the file creation."
    },
    {
      "metadata": {
        "trusted": true
      },
      "cell_type": "code",
      "source": "! pip install memory_profiler",
      "execution_count": 21,
      "outputs": [
        {
          "output_type": "stream",
          "text": "Requirement already satisfied: memory_profiler in /home/nbuser/anaconda3_501/lib/python3.6/site-packages (0.54.0)\r\nRequirement already satisfied: psutil in /home/nbuser/anaconda3_501/lib/python3.6/site-packages (from memory_profiler) (5.4.0)\r\n",
          "name": "stdout"
        }
      ]
    },
    {
      "metadata": {
        "trusted": true
      },
      "cell_type": "code",
      "source": "%load_ext memory_profiler",
      "execution_count": 4,
      "outputs": []
    },
    {
      "metadata": {
        "trusted": true
      },
      "cell_type": "code",
      "source": "%memit sum_of_lists(1000000)",
      "execution_count": 5,
      "outputs": [
        {
          "output_type": "stream",
          "text": "peak memory: 84.72 MiB, increment: 37.59 MiB\n",
          "name": "stdout"
        }
      ]
    },
    {
      "metadata": {
        "trusted": true
      },
      "cell_type": "code",
      "source": "%%file mprun_demo.py\ndef sum_of_lists(N):\n    total = 0\n    for i in range(5):\n        L = [j ^ (j >> i) for j in range(N)]\n        total += sum(L)\n        del L # remove reference to L\n    return total",
      "execution_count": 6,
      "outputs": [
        {
          "output_type": "stream",
          "text": "Overwriting mprun_demo.py\n",
          "name": "stdout"
        }
      ]
    },
    {
      "metadata": {
        "trusted": true
      },
      "cell_type": "code",
      "source": "%%file __init__.py\n\n\"\"\"init file\"\"\"",
      "execution_count": 67,
      "outputs": [
        {
          "output_type": "stream",
          "text": "Writing __init__.py\n",
          "name": "stdout"
        }
      ]
    },
    {
      "metadata": {},
      "cell_type": "markdown",
      "source": "note `PYTHONPATH': '/home/nbuser/library'`, which is why we refer to the file with the `ipython.` prefix and we have the init file created above."
    },
    {
      "metadata": {
        "trusted": true
      },
      "cell_type": "code",
      "source": "from ipython.mprun_demo import sum_of_lists\n%mprun -f sum_of_lists sum_of_lists(100000)",
      "execution_count": 10,
      "outputs": [
        {
          "output_type": "stream",
          "text": "\n",
          "name": "stdout"
        }
      ]
    },
    {
      "metadata": {
        "trusted": true
      },
      "cell_type": "code",
      "source": "%env",
      "execution_count": 1,
      "outputs": [
        {
          "output_type": "execute_result",
          "execution_count": 1,
          "data": {
            "text/plain": "{'AZURE_NOTEBOOKS_HOST': 'https://notebooks.azure.com',\n 'AZURE_NOTEBOOKS_VMVERSION': '1b872c36f',\n 'CLICOLOR': '1',\n 'GIT_PAGER': 'cat',\n 'HOME': '/home/nbuser',\n 'HOSTNAME': 'nbserver',\n 'JPY_PARENT_PID': '40',\n 'LANG': 'en_US.UTF-8',\n 'LD_LIBRARY_PATH': '/usr/lib64/MRO-3.3.0/R-3.3.0/lib/R/lib:',\n 'LOGNAME': 'nbuser',\n 'MAIL': '/var/mail/nbuser',\n 'MPLBACKEND': 'module://ipykernel.pylab.backend_inline',\n 'MSI_ENDPOINT': 'http://localhost:25198/nb/api/nbsvc/oauth2/token',\n 'PAGER': 'cat',\n 'PATH': '/home/nbuser/anaconda3_501/bin:/usr/local/bin:/usr/local/sbin:/usr/local/bin:/usr/sbin:/usr/bin:/sbin:/bin:/snap/bin',\n 'PWD': '/home/nbuser/library/ipython',\n 'PYTHONPATH': '/home/nbuser/library',\n 'R_LIBS': '/home/nbuser/R:/usr/local/lib/R/site-library:/usr/lib/R/site-library:/usr/lib/R/library',\n 'SHELL': '/bin/bash',\n 'SHLVL': '2',\n 'SUDO_COMMAND': '/bin/bash /.start.sh 25198 https://notebooks.azure.com nb 0009_ansprod4359nb 9f2982f28ba5416f947d8b619dc22d6e70ec16c1d8b440a59591ddbd63c19778 e1160796-a49f-4f9c-8942-2b02900b024a ansprod4359nb VM',\n 'SUDO_GID': '0',\n 'SUDO_UID': '0',\n 'SUDO_USER': 'root',\n 'TERM': 'xterm-color',\n 'USER': 'nbuser',\n 'USERNAME': 'nbuser',\n '_': '/home/nbuser/anaconda3_501/bin/python',\n 'http_proxy': 'http://webproxy:3128',\n 'https_proxy': 'http://webproxy:3128',\n 'no_proxy': 'localhost'}"
          },
          "metadata": {}
        }
      ]
    },
    {
      "metadata": {
        "trusted": true
      },
      "cell_type": "code",
      "source": "",
      "execution_count": null,
      "outputs": []
    }
  ],
  "metadata": {
    "kernelspec": {
      "name": "python36",
      "display_name": "Python 3.6",
      "language": "python"
    },
    "language_info": {
      "mimetype": "text/x-python",
      "nbconvert_exporter": "python",
      "name": "python",
      "pygments_lexer": "ipython3",
      "version": "3.6.6",
      "file_extension": ".py",
      "codemirror_mode": {
        "version": 3,
        "name": "ipython"
      }
    }
  },
  "nbformat": 4,
  "nbformat_minor": 2
}